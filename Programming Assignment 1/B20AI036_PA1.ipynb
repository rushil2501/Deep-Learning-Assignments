{
  "nbformat": 4,
  "nbformat_minor": 0,
  "metadata": {
    "colab": {
      "provenance": [],
      "toc_visible": true
    },
    "kernelspec": {
      "name": "python3",
      "display_name": "Python 3"
    },
    "language_info": {
      "name": "python"
    }
  },
  "cells": [
    {
      "cell_type": "code",
      "execution_count": null,
      "metadata": {
        "id": "5zS_ECN8u1mi"
      },
      "outputs": [],
      "source": [
        "import pandas as pd\n",
        "from sklearn.preprocessing import LabelEncoder\n",
        "import numpy as np\n",
        "from sklearn.model_selection  import train_test_split\n",
        "import torch #python #keras #tensorflow #pytorch\n",
        "import torch.nn as nn\n",
        "from torch.autograd import Variable\n",
        "import torch.nn.functional as F\n",
        "import torchvision\n",
        "import torchvision.transforms as transforms\n",
        "from sklearn.utils import shuffle\n",
        "from sklearn.preprocessing import StandardScaler\n",
        "import matplotlib as mpl\n",
        "import matplotlib.pyplot as plt\n",
        "import seaborn as sns\n",
        "from sklearn.metrics import accuracy_score\n",
        "from sklearn import datasets\n",
        "from torchvision.utils import make_grid\n",
        "from torchvision.datasets import ImageFolder\n",
        "from torch.utils.data import DataLoader\n",
        "import torch.optim as optim\n"
      ]
    },
    {
      "cell_type": "markdown",
      "source": [
        "# Question 1"
      ],
      "metadata": {
        "id": "7GEFxtlneKah"
      }
    },
    {
      "cell_type": "code",
      "source": [
        "transform = transforms.Compose([transforms.ToTensor()])\n",
        "trainset = torchvision.datasets.CIFAR10(root='./data', train=True, download=True, transform=transform)\n",
        "trainloader = torch.utils.data.DataLoader(trainset, batch_size=4, shuffle=True, num_workers=2)\n",
        "testset = torchvision.datasets.CIFAR10(root='./data', train=False, download=True, transform=transform)\n",
        "testloader = torch.utils.data.DataLoader(testset, batch_size=4, shuffle=False, num_workers=2)\n"
      ],
      "metadata": {
        "colab": {
          "base_uri": "https://localhost:8080/"
        },
        "id": "-bG5pX6x6uru",
        "outputId": "389f6246-5d48-4172-ac0d-130cb26346ed"
      },
      "execution_count": null,
      "outputs": [
        {
          "output_type": "stream",
          "name": "stdout",
          "text": [
            "Files already downloaded and verified\n",
            "Files already downloaded and verified\n"
          ]
        }
      ]
    },
    {
      "cell_type": "markdown",
      "source": [
        "## Question 1 part 1 sigmoid function"
      ],
      "metadata": {
        "id": "0_BwH7bpLirI"
      }
    },
    {
      "cell_type": "code",
      "source": [
        "class NeuralNetwork(nn.Module):\n",
        "    def __init__(self):\n",
        "        super(NeuralNetwork, self).__init__()\n",
        "        self.conv1 =nn.Conv2d(3, 6, 5)\n",
        "        self.pool =nn.MaxPool2d(2, 2)\n",
        "        self.conv2 =nn.Conv2d(6, 16, 5)\n",
        "        self.fc1 =  nn.Linear(16 * 5 * 5, 120)\n",
        "        self.fc2 =  nn.Linear(120, 84)\n",
        "        self.fc3 =nn.Linear(84, 10)\n",
        "    def forward(self, x):\n",
        "        x = self.pool(nn.Sigmoid()(self.conv1(x)))\n",
        "        x = self.pool(nn.Sigmoid()(self.conv2(x)))\n",
        "        x = x.view(-1, 16 * 5 * 5)\n",
        "        x = nn.Sigmoid()(self.fc1(x))\n",
        "        x = nn.Sigmoid()(self.fc2(x))\n",
        "        x = self.fc3(x)\n",
        "        return x"
      ],
      "metadata": {
        "id": "UAOJsduQdAc1"
      },
      "execution_count": null,
      "outputs": []
    },
    {
      "cell_type": "code",
      "source": [
        "model_sigmoid =NeuralNetwork()\n",
        "criterion = nn.CrossEntropyLoss()\n",
        "optimizer =  torch.optim.SGD(model_sigmoid.parameters(), lr=0.001, momentum=0.9)"
      ],
      "metadata": {
        "id": "_jJFb_c8dB7f"
      },
      "execution_count": null,
      "outputs": []
    },
    {
      "cell_type": "code",
      "source": [
        "for epoch in range(2):  \n",
        "    running_loss = 0.0\n",
        "    for i, data in enumerate(trainloader, 0):\n",
        "        inputs, labels = data\n",
        "        optimizer.zero_grad()\n",
        "        outputs = model_sigmoid(inputs)\n",
        "        loss = criterion(outputs, labels)\n",
        "        loss.backward()\n",
        "        optimizer.step()\n",
        "        running_loss += loss.item()\n",
        "    print('Epoch %d loss: %.3f' % (epoch + 1, running_loss / (i + 1)))\n",
        "print('Finished Training')\n"
      ],
      "metadata": {
        "colab": {
          "base_uri": "https://localhost:8080/"
        },
        "id": "6z0ZxuVuvLGU",
        "outputId": "f408fa1a-bd75-43df-8b05-d2a49848988a"
      },
      "execution_count": null,
      "outputs": [
        {
          "output_type": "stream",
          "name": "stdout",
          "text": [
            "Epoch 1 loss: 2.313\n",
            "Epoch 2 loss: 2.309\n",
            "Finished Training\n"
          ]
        }
      ]
    },
    {
      "cell_type": "code",
      "source": [
        "correct =0\n",
        "total =0\n",
        "with torch.no_grad():\n",
        "    for data in testloader:\n",
        "        images, labels = data\n",
        "        outputs = model_sigmoid(images)\n",
        "        _, predicted = torch.max(outputs.data, 1)\n",
        "        total +=labels.size(0)\n",
        "        correct +=(predicted == labels).sum().item()\n",
        "print('Accuracy of the network on the 10000 test images: %d %%' % (100 * correct / total))"
      ],
      "metadata": {
        "colab": {
          "base_uri": "https://localhost:8080/"
        },
        "id": "K4u557o-1_Z_",
        "outputId": "1576eb28-919b-4615-f45c-9fc68ab71f91"
      },
      "execution_count": null,
      "outputs": [
        {
          "output_type": "stream",
          "name": "stdout",
          "text": [
            "Accuracy of the network on the 10000 test images: 10 %\n"
          ]
        }
      ]
    },
    {
      "cell_type": "markdown",
      "source": [
        "## Question 1 part 1 tanh"
      ],
      "metadata": {
        "id": "Od8U-b6hLoTw"
      }
    },
    {
      "cell_type": "code",
      "source": [
        "class NeuralNetwork(nn.Module):\n",
        "    def __init__(self):\n",
        "        super(NeuralNetwork, self).__init__()\n",
        "        self.conv1 = nn.Conv2d(3, 6, 5)\n",
        "        self.pool =nn.MaxPool2d(2, 2)\n",
        "        self.conv2 = nn.Conv2d(6,16, 5)\n",
        "        self.fc1 =nn.Linear(16 *5 * 5, 120)\n",
        "        self.fc2 =nn.Linear(120,84)\n",
        "        self.fc3 = nn.Linear(84, 10)\n",
        "    def forward(self, x):\n",
        "        x = self.pool(nn.Tanh()(self.conv1(x)))\n",
        "        x = self.pool(nn.Tanh()(self.conv2(x)))\n",
        "        x = x.view(-1,16*5* 5)\n",
        "        x = nn.Tanh()(self.fc1(x))\n",
        "        x = nn.Tanh()(self.fc2(x))\n",
        "        x = self.fc3(x)\n",
        "        return x"
      ],
      "metadata": {
        "id": "Ee-Z3Pq9dYXm"
      },
      "execution_count": null,
      "outputs": []
    },
    {
      "cell_type": "code",
      "source": [
        "model_tanh = NeuralNetwork()\n",
        "criterion = nn.CrossEntropyLoss()\n",
        "optimizer = torch.optim.SGD(model_tanh.parameters(), lr=0.001, momentum=0.9)"
      ],
      "metadata": {
        "id": "JqIx6yFqddLr"
      },
      "execution_count": null,
      "outputs": []
    },
    {
      "cell_type": "code",
      "source": [
        "for epoch in range(2): \n",
        "\n",
        "    running_loss = 0.0\n",
        "    for i, data in enumerate(trainloader,0):\n",
        "        inputs, labels = data\n",
        "        optimizer.zero_grad()\n",
        "        outputs = model_tanh(inputs)\n",
        "        loss = criterion(outputs,labels)\n",
        "        loss.backward()\n",
        "        optimizer.step()\n",
        "        running_loss += loss.item()\n",
        "    print('Epoch %d loss: %.3f' % (epoch +1,running_loss/(i+1)))\n",
        "\n",
        "print('Finished Training')\n"
      ],
      "metadata": {
        "colab": {
          "base_uri": "https://localhost:8080/"
        },
        "id": "aFZEjBuj2PjR",
        "outputId": "ec5c3920-c4bd-42ef-eb8a-e88e2489aa71"
      },
      "execution_count": null,
      "outputs": [
        {
          "output_type": "stream",
          "name": "stdout",
          "text": [
            "Epoch 1 loss: 1.716\n",
            "Epoch 2 loss: 1.394\n",
            "Finished Training\n"
          ]
        }
      ]
    },
    {
      "cell_type": "code",
      "source": [
        "# Test the model on the test dataset\n",
        "correct = 0\n",
        "total = 0\n",
        "with torch.no_grad():\n",
        "    for data in testloader:\n",
        "        images, labels =data\n",
        "        outputs = model_tanh(images)\n",
        "        _, predicted =torch.max(outputs.data, 1)\n",
        "        total +=labels.size(0)\n",
        "        correct +=(predicted ==labels).sum().item()\n",
        "\n",
        "print('Accuracy of the network on the 10000 test images: %d %%' % (100 *correct/total))"
      ],
      "metadata": {
        "colab": {
          "base_uri": "https://localhost:8080/"
        },
        "id": "rs9J_jLyLzjG",
        "outputId": "ab17d17b-f86c-4590-a574-86a297c995e3"
      },
      "execution_count": null,
      "outputs": [
        {
          "output_type": "stream",
          "name": "stdout",
          "text": [
            "Accuracy of the network on the 10000 test images: 53 %\n"
          ]
        }
      ]
    },
    {
      "cell_type": "markdown",
      "source": [
        "##Checking Vanishing Gradient by adding FCs"
      ],
      "metadata": {
        "id": "3RR9vOIIs7G4"
      }
    },
    {
      "cell_type": "markdown",
      "source": [
        "### Number of layers = 3"
      ],
      "metadata": {
        "id": "RTk_D4eNvNmj"
      }
    },
    {
      "cell_type": "code",
      "source": [
        "class DeepNeuralNetwork(nn.Module):\n",
        "    def __init__(self):\n",
        "        super(DeepNeuralNetwork, self).__init__()\n",
        "        self.conv1 = nn.Conv2d(3,6,5)\n",
        "        self.pool = nn.MaxPool2d(2,2)\n",
        "        self.conv2 = nn.Conv2d(6,16,5)\n",
        "        self.fc1 = nn.Linear(16 *5 *5, 120)\n",
        "        self.fc2 = nn.Linear(120,84)\n",
        "        self.fc3 = nn.Linear(84,10)\n",
        "    def forward(self, x):\n",
        "        x = self.pool(nn.Tanh()(self.conv1(x)))\n",
        "        x = self.pool(nn.Tanh()(self.conv2(x)))\n",
        "        x = x.view(-1, 16 * 5 * 5)\n",
        "        x = nn.Tanh()(self.fc1(x))\n",
        "        x = nn.Tanh()(self.fc2(x))\n",
        "        x = (self.fc3(x))\n",
        "        return x\n",
        "model_vg = DeepNeuralNetwork()\n",
        "criterion = nn.CrossEntropyLoss()\n",
        "optimizer = torch.optim.SGD(model_vg.parameters(), lr=0.001, momentum=0.9)\n",
        "for epoch in range(2):  \n",
        "    print(epoch)\n",
        "    running_loss =0.0\n",
        "    for i, data in enumerate(trainloader, 0):\n",
        "        inputs, labels = data\n",
        "        optimizer.zero_grad()\n",
        "        outputs = model_vg(inputs)\n",
        "        loss = criterion(outputs, labels)\n",
        "        loss.backward()\n",
        "        optimizer.step()\n",
        "        running_loss +=loss.item()\n",
        "    print('Epoch %d loss: %.3f' % (epoch +1, running_loss/(i+1)))\n"
      ],
      "metadata": {
        "colab": {
          "base_uri": "https://localhost:8080/"
        },
        "id": "CYaSAlNGvPs8",
        "outputId": "6d9caabc-06ae-4569-8caf-7234d55ea33b"
      },
      "execution_count": null,
      "outputs": [
        {
          "output_type": "stream",
          "name": "stdout",
          "text": [
            "0\n",
            "Epoch 1 loss: 1.729\n",
            "1\n",
            "Epoch 2 loss: 1.411\n"
          ]
        }
      ]
    },
    {
      "cell_type": "code",
      "source": [
        "# Test the model on the test dataset\n",
        "correct = 0\n",
        "total = 0\n",
        "with torch.no_grad():\n",
        "    for data in testloader:\n",
        "        images, labels =data\n",
        "        outputs =model_vg(images)\n",
        "        _, predicted = torch.max(outputs.data, 1)\n",
        "        total +=labels.size(0)\n",
        "        correct +=(predicted ==labels).sum().item()\n",
        "print('Accuracy of the network on the 10000 test images: %d %%' % (100 * correct / total))"
      ],
      "metadata": {
        "colab": {
          "base_uri": "https://localhost:8080/"
        },
        "id": "adfZjBIhvUVb",
        "outputId": "7db6781f-64d7-417b-b2c2-9f529d10976f"
      },
      "execution_count": null,
      "outputs": [
        {
          "output_type": "stream",
          "name": "stdout",
          "text": [
            "Accuracy of the network on the 10000 test images: 52 %\n"
          ]
        }
      ]
    },
    {
      "cell_type": "markdown",
      "source": [
        "### Number of Layers -4"
      ],
      "metadata": {
        "id": "iIK2xLbKo8Qd"
      }
    },
    {
      "cell_type": "code",
      "source": [
        "class DeepNeuralNetwork(nn.Module):\n",
        "    def __init__(self):\n",
        "        super(DeepNeuralNetwork, self).__init__()\n",
        "        self.conv1 =nn.Conv2d(3, 6, 5)\n",
        "        self.pool =nn.MaxPool2d(2, 2)\n",
        "        self.conv2 =nn.Conv2d(6, 16, 5)\n",
        "        self.fc1 =nn.Linear(16 * 5 * 5, 120)\n",
        "        self.fc2 =nn.Linear(120, 84)\n",
        "        self.fc3 =nn.Linear(84, 10)\n",
        "        self.fc4 =nn.Linear(10, 10)\n",
        "\n",
        "    def forward(self, x):\n",
        "        x =self.pool(nn.Tanh()(self.conv1(x)))\n",
        "        x = self.pool(nn.Tanh()(self.conv2(x)))\n",
        "        x =x.view(-1, 16 * 5 * 5)\n",
        "        x =nn.Tanh()(self.fc1(x))\n",
        "        x =nn.Tanh()(self.fc2(x))\n",
        "        x =nn.Tanh(self.fc3(x))\n",
        "        x = (self.fc4(x))\n",
        "        return x\n",
        "\n",
        "model_vg = DeepNeuralNetwork()\n",
        "criterion = nn.CrossEntropyLoss()\n",
        "optimizer = torch.optim.SGD(model_vg.parameters(), lr=0.001, momentum=0.9)\n",
        "for epoch in range(2):  \n",
        "    print(epoch)\n",
        "    running_loss = 0.0\n",
        "    for i, data in enumerate(trainloader, 0):\n",
        "        inputs, labels = data\n",
        "        optimizer.zero_grad()\n",
        "        outputs =model_vg(inputs)\n",
        "        loss =criterion(outputs, labels)\n",
        "        loss.backward()\n",
        "        optimizer.step()\n",
        "        running_loss +=loss.item()\n",
        "    print('Epoch %d loss: %.3f' % (epoch + 1, running_loss / (i + 1)))"
      ],
      "metadata": {
        "colab": {
          "base_uri": "https://localhost:8080/"
        },
        "id": "0qqMDZTio8ha",
        "outputId": "d2d8bf99-71d6-4efd-9349-0c31f7fffb5e"
      },
      "execution_count": null,
      "outputs": [
        {
          "output_type": "stream",
          "name": "stdout",
          "text": [
            "0\n",
            "Epoch 1 loss: 1.703\n",
            "1\n",
            "Epoch 2 loss: 1.391\n"
          ]
        }
      ]
    },
    {
      "cell_type": "code",
      "source": [
        "# Test the model on the test dataset\n",
        "correct = 0\n",
        "total = 0\n",
        "with torch.no_grad():\n",
        "    for data in testloader:\n",
        "        images, labels = data\n",
        "        outputs =model_vg(images)\n",
        "        _, predicted =torch.max(outputs.data, 1)\n",
        "        total += labels.size(0)\n",
        "        correct +=(predicted == labels).sum().item()\n",
        "print('Accuracy of the network on the 10000 test images: %d %%' % (100 * correct / total))"
      ],
      "metadata": {
        "colab": {
          "base_uri": "https://localhost:8080/"
        },
        "id": "iPjBUWWOo81G",
        "outputId": "a0340451-6208-48b8-964d-c8b026026dff"
      },
      "execution_count": null,
      "outputs": [
        {
          "output_type": "stream",
          "name": "stdout",
          "text": [
            "Accuracy of the network on the 10000 test images: 55 %\n"
          ]
        }
      ]
    },
    {
      "cell_type": "markdown",
      "source": [
        "### Number of Layers = 5"
      ],
      "metadata": {
        "id": "ZIIqbR6xo9IE"
      }
    },
    {
      "cell_type": "code",
      "source": [
        "class DeepNeuralNetwork(nn.Module):\n",
        "    def __init__(self):\n",
        "        super(DeepNeuralNetwork, self).__init__()\n",
        "        self.conv1 = nn.Conv2d(3, 6, 5)\n",
        "        self.pool = nn.MaxPool2d(2, 2)\n",
        "        self.conv2= nn.Conv2d(6, 16, 5)\n",
        "        self.fc1 =nn.Linear(16 * 5 * 5, 120)\n",
        "        self.fc2 =nn.Linear(120, 84)\n",
        "        self.fc3 =nn.Linear(84, 10)\n",
        "        self.fc4 =nn.Linear(10, 10)\n",
        "        self.fc5 =nn.Linear(10, 10)\n",
        "\n",
        "    def forward(self, x):\n",
        "        x =self.pool(nn.Tanh()(self.conv1(x)))\n",
        "        x =self.pool(nn.Tanh()(self.conv2(x)))\n",
        "        x =x.view(-1, 16 * 5 * 5)\n",
        "        x = nn.Tanh()(self.fc1(x))\n",
        "        x =nn.Tanh()(self.fc2(x))\n",
        "        x =nn.Tanh(self.fc3(x))\n",
        "        x =nn.Tanh(self.fc4(x))\n",
        "        x =  (self.fc5(x))\n",
        "        return x\n",
        "\n",
        "model_vg = DeepNeuralNetwork()\n",
        "criterion = nn.CrossEntropyLoss()\n",
        "optimizer = torch.optim.SGD(model_vg.parameters(), lr=0.001, momentum=0.9)\n",
        "for epoch in range(2):  \n",
        "    print(epoch)\n",
        "    running_loss = 0.0\n",
        "    for i, data in enumerate(trainloader, 0):\n",
        "        inputs, labels = data\n",
        "        # print('here')\n",
        "        optimizer.zero_grad()\n",
        "        outputs = model_vg(inputs)\n",
        "        loss = criterion(outputs, labels)\n",
        "        loss.backward()\n",
        "        optimizer.step()\n",
        "        running_loss += loss.item()\n",
        "    print('Epoch %d loss: %.3f' % (epoch + 1, running_loss / (i + 1)))"
      ],
      "metadata": {
        "colab": {
          "base_uri": "https://localhost:8080/"
        },
        "id": "oKqk77_No9Wf",
        "outputId": "bc39e3c2-5add-428b-be32-dbce18637322"
      },
      "execution_count": null,
      "outputs": [
        {
          "output_type": "stream",
          "name": "stdout",
          "text": [
            "0\n",
            "Epoch 1 loss: 1.403\n",
            "1\n",
            "Epoch 2 loss: 1.107\n"
          ]
        }
      ]
    },
    {
      "cell_type": "code",
      "source": [
        "# Test the model on the test dataset\n",
        "correct = 0\n",
        "total = 0\n",
        "with torch.no_grad():\n",
        "    for data in testloader:\n",
        "        images, labels = data\n",
        "        # print('here')\n",
        "        outputs = model_vg(images)\n",
        "        _, predicted = torch.max(outputs.data, 1)\n",
        "        total += labels.size(0)\n",
        "        correct += (predicted == labels).sum().item()\n",
        "print('Accuracy of the network on the 10000 test images: %d %%' % (100 * correct / total))"
      ],
      "metadata": {
        "colab": {
          "base_uri": "https://localhost:8080/"
        },
        "id": "LeNm8g_qo9hO",
        "outputId": "98a45fbf-f91a-4a0b-8ea9-2044542b8a3d"
      },
      "execution_count": null,
      "outputs": [
        {
          "output_type": "stream",
          "name": "stdout",
          "text": [
            "Accuracy of the network on the 10000 test images: 57 %\n"
          ]
        }
      ]
    },
    {
      "cell_type": "markdown",
      "source": [
        "### Number of Layers = 6"
      ],
      "metadata": {
        "id": "IsFeek9rvP5w"
      }
    },
    {
      "cell_type": "code",
      "source": [
        "class DeepNeuralNetwork(nn.Module):\n",
        "    def __init__(self):\n",
        "        super(DeepNeuralNetwork, self).__init__()\n",
        "        self.conv1 = nn.Conv2d(3, 6, 5)\n",
        "        self.pool = nn.MaxPool2d(2, 2)\n",
        "        self.conv2 = nn.Conv2d(6, 16, 5)\n",
        "        self.fc1 =nn.Linear(16 * 5 * 5, 120)\n",
        "        self.fc2 = nn.Linear(120, 84)\n",
        "        self.fc3 =nn.Linear(84, 10)\n",
        "        self.fc4 = nn.Linear(10, 10)\n",
        "        self.fc5 =nn.Linear(10, 10)\n",
        "        self.fc6 =nn.Linear(10, 10)\n",
        "    def forward(self, x):\n",
        "        x = self.pool(nn.Tanh()(self.conv1(x)))\n",
        "        x = self.pool(nn.Tanh()(self.conv2(x)))\n",
        "        x = x.view(-1, 16 * 5 * 5)\n",
        "        x =nn.Tanh()(self.fc1(x))\n",
        "        x =nn.Tanh()(self.fc2(x))\n",
        "        x = self.fc3(x)\n",
        "        x =nn.Tanh()(self.fc4(x))\n",
        "        x = nn.Tanh()(self.fc5(x))\n",
        "        x =nn.Tanh()(self.fc6(x))\n",
        "        return x\n",
        "model_vg6 = DeepNeuralNetwork()\n",
        "criterion = nn.CrossEntropyLoss()\n",
        "optimizer = torch.optim.SGD(model_vg6.parameters(), lr=0.001, momentum=0.9)\n",
        "\n",
        "for epoch in range(3):  \n",
        "    print(epoch)\n",
        "    running_loss = 0.0\n",
        "    for i, data in enumerate(trainloader, 0):\n",
        "        inputs, labels = data\n",
        "        # print('here')\n",
        "        optimizer.zero_grad()\n",
        "        outputs = model_vg6(inputs)\n",
        "        loss = criterion(outputs, labels)\n",
        "        loss.backward()\n",
        "        optimizer.step()\n",
        "\n",
        "        running_loss += loss.item()\n",
        "    print('Epoch %d loss: %.3f' % (epoch + 1, running_loss / (i + 1)))\n"
      ],
      "metadata": {
        "colab": {
          "base_uri": "https://localhost:8080/"
        },
        "id": "jB0a2qEFLz61",
        "outputId": "f3aea271-a2fc-424f-c3fd-f890798fa502"
      },
      "execution_count": null,
      "outputs": [
        {
          "output_type": "stream",
          "name": "stdout",
          "text": [
            "0\n",
            "Epoch 1 loss: 2.083\n",
            "1\n",
            "Epoch 2 loss: 1.866\n",
            "2\n",
            "Epoch 3 loss: 1.771\n"
          ]
        }
      ]
    },
    {
      "cell_type": "code",
      "source": [
        "# Test the model on the test dataset\n",
        "correct = 0\n",
        "total = 0\n",
        "with torch.no_grad():\n",
        "    for data in testloader:\n",
        "        images, labels = data\n",
        "        outputs =model_vg6(images)\n",
        "        _, predicted = torch.max(outputs.data, 1)\n",
        "        total += labels.size(0)\n",
        "        correct += (predicted == labels).sum().item()\n",
        "\n",
        "print('Accuracy of the network on the 10000 test images: %d %%' % (\n",
        "    100 * correct / total))"
      ],
      "metadata": {
        "colab": {
          "base_uri": "https://localhost:8080/"
        },
        "id": "HsYSR7BpNzq1",
        "outputId": "6cffae55-28f0-434d-9507-3add9ead8836"
      },
      "execution_count": null,
      "outputs": [
        {
          "output_type": "stream",
          "name": "stdout",
          "text": [
            "Accuracy of the network on the 10000 test images: 34 %\n"
          ]
        }
      ]
    },
    {
      "cell_type": "markdown",
      "source": [
        "## Overcoming vanishing gradient Using ReLU and LeakyReLU"
      ],
      "metadata": {
        "id": "oWfWavBBiFwV"
      }
    },
    {
      "cell_type": "code",
      "source": [
        "class DeepNeuralNetwork(nn.Module):\n",
        "    def __init__(self):\n",
        "        super(DeepNeuralNetwork, self).__init__()\n",
        "        self.conv1 = nn.Conv2d(3, 6, 5)\n",
        "        self.pool = nn.MaxPool2d(2, 2)\n",
        "        self.conv2 = nn.Conv2d(6, 16, 5)\n",
        "        self.fc1 =nn.Linear(16 * 5 * 5, 120)\n",
        "        self.fc2 = nn.Linear(120, 84)\n",
        "        self.fc3 =nn.Linear(84, 10)\n",
        "        self.fc4 = nn.Linear(10, 10)\n",
        "        self.fc5 =nn.Linear(10, 10)\n",
        "        self.fc6 =nn.Linear(10, 10)\n",
        "    def forward(self, x):\n",
        "        x =self.pool(nn.LeakyReLU()(self.conv1(x)))\n",
        "        x =self.pool(nn.LeakyReLU()(self.conv2(x)))\n",
        "        x = x.view(-1, 16 * 5 * 5)\n",
        "        x = nn.LeakyReLU()(self.fc1(x))\n",
        "        x =nn.LeakyReLU()(self.fc2(x))\n",
        "        x =self.fc3(x)\n",
        "        x =nn.LeakyReLU()(self.fc4(x))\n",
        "        x =nn.LeakyReLU()(self.fc5(x))\n",
        "        x = (self.fc6(x))\n",
        "        return x\n",
        "model_vg6 = DeepNeuralNetwork()\n",
        "criterion = nn.CrossEntropyLoss()\n",
        "optimizer = torch.optim.SGD(model_vg6.parameters(), lr=0.001, momentum=0.9)\n",
        "\n",
        "for epoch in range(3):  \n",
        "    print(epoch)\n",
        "    running_loss = 0.0\n",
        "    for i, data in enumerate(trainloader, 0):\n",
        "        inputs, labels =data\n",
        "        optimizer.zero_grad()\n",
        "        outputs = model_vg6(inputs)\n",
        "        loss =criterion(outputs, labels)\n",
        "        loss.backward()\n",
        "        optimizer.step()\n",
        "\n",
        "        running_loss +=loss.item()\n",
        "    print('Epoch %d loss: %.3f' % (epoch+1,running_loss/(i+1)))\n"
      ],
      "metadata": {
        "colab": {
          "base_uri": "https://localhost:8080/"
        },
        "id": "uKQEcK4BiE3O",
        "outputId": "50276db8-33b2-4ecc-aaee-05fa0851fa71"
      },
      "execution_count": null,
      "outputs": [
        {
          "output_type": "stream",
          "name": "stdout",
          "text": [
            "0\n",
            "Epoch 1 loss: 2.178\n",
            "1\n",
            "Epoch 2 loss: 1.789\n",
            "2\n",
            "Epoch 3 loss: 1.579\n"
          ]
        }
      ]
    },
    {
      "cell_type": "code",
      "source": [
        "# Test the model on the test dataset\n",
        "correct = 0\n",
        "total = 0\n",
        "with torch.no_grad():\n",
        "    for data in testloader:\n",
        "        images, labels = data\n",
        "        outputs = model_vg6(images)\n",
        "        _, predicted = torch.max(outputs.data, 1)\n",
        "        total += labels.size(0)\n",
        "        correct += (predicted == labels).sum().item()\n",
        "print('Accuracy of the network on the 10000 test images: %d %%' % (100*correct/total))"
      ],
      "metadata": {
        "colab": {
          "base_uri": "https://localhost:8080/"
        },
        "id": "hfkyTo_SiSBQ",
        "outputId": "dd7a6be1-5729-4767-a26d-63b547a0b3da"
      },
      "execution_count": null,
      "outputs": [
        {
          "output_type": "stream",
          "name": "stdout",
          "text": [
            "Accuracy of the network on the 10000 test images: 46 %\n"
          ]
        }
      ]
    },
    {
      "cell_type": "markdown",
      "source": [
        "##overcoming vanishing Gradient using Skip Connections and Batch Normalization"
      ],
      "metadata": {
        "id": "I83KQ4z6TWe2"
      }
    },
    {
      "cell_type": "code",
      "source": [
        "import torch\n",
        "import torch.nn as nn\n",
        "import torch.nn.functional as F\n",
        "class SkipConnection(nn.Module):\n",
        "    def __init__(self, in_channels, out_channels, stride=1):\n",
        "        super(SkipConnection, self).__init__()\n",
        "        self.conv = nn.Conv2d(in_channels,out_channels, kernel_size=3, stride=stride, padding=1)\n",
        "        self.bn = nn.BatchNorm2d(out_channels)\n",
        "    def forward(self, x):\n",
        "        out = self.conv(x)\n",
        "        out = self.bn(out)\n",
        "        return out\n",
        "class SkipNet(nn.Module):\n",
        "    def __init__(self):\n",
        "        super(SkipNet, self).__init__()\n",
        "        self.layer1 =SkipConnection(3, 32, stride=1)\n",
        "        self.layer2 =SkipConnection(32, 64, stride=2)\n",
        "        self.layer3 =SkipConnection(64, 128, stride=2)\n",
        "        self.fc = nn.Linear(128*8*8, 10)\n",
        "    def forward(self, x):\n",
        "        out = self.layer1(x)\n",
        "        out = self.layer2(out)\n",
        "        out = self.layer3(out)\n",
        "        out = out.view(out.size(0), -1)\n",
        "        out = self.fc(out)\n",
        "        return out\n",
        "model = SkipNet()\n",
        "criterion = nn.CrossEntropyLoss()\n",
        "optimizer = torch.optim.Adam(model.parameters(), lr=0.001)\n",
        "num_epochs = 2\n",
        "for epoch in range(num_epochs):\n",
        "    for i, (images, labels) in enumerate(trainloader):\n",
        "        images = images\n",
        "        labels = labels\n",
        "        outputs = model(images)\n",
        "        loss = criterion(outputs, labels)\n",
        "        optimizer.zero_grad()\n",
        "        loss.backward()\n",
        "        optimizer.step()\n",
        "    correct = 0\n",
        "    total = 0\n",
        "    for images, labels in testloader:\n",
        "        images = images\n",
        "        outputs = model(images)\n",
        "        _, predicted = torch.max(outputs.data, 1)\n",
        "        total += labels.size(0)\n",
        "        correct += (predicted == labels).sum().item()\n",
        "    print('Epoch [{}/{}], Loss: {:.4f}, Accuracy: {:.2f}%'.format(epoch+1, num_epochs, loss.item(), 100 * correct / total))"
      ],
      "metadata": {
        "id": "G4kG1WmXaB6V",
        "colab": {
          "base_uri": "https://localhost:8080/"
        },
        "outputId": "9020bafb-19fd-4cf3-c9ba-3d7d94201bc0"
      },
      "execution_count": null,
      "outputs": [
        {
          "output_type": "stream",
          "name": "stdout",
          "text": [
            "Epoch [1/2], Loss: 1.7408, Accuracy: 39.74%\n",
            "Epoch [2/2], Loss: 1.5959, Accuracy: 40.85%\n"
          ]
        }
      ]
    },
    {
      "cell_type": "markdown",
      "source": [
        "#Q2"
      ],
      "metadata": {
        "id": "jVKYCmAx_J2G"
      }
    },
    {
      "cell_type": "code",
      "source": [
        "transform = transforms.Compose([transforms.Resize((32, 32)),\n",
        "    transforms.ToTensor(),transforms.Normalize((0.5, 0.5, 0.5), (0.5, 0.5, 0.5))\n",
        "])\n",
        "train = ImageFolder('/content/drive/MyDrive/GurNum/train', transform=transform)\n",
        "trainLoader = DataLoader(train, batch_size=32, shuffle=True, num_workers=2)\n",
        "val = ImageFolder('/content/drive/MyDrive/GurNum/val', transform=transform)\n",
        "valLoader = DataLoader(val, batch_size=32, shuffle=True, num_workers=2)\n"
      ],
      "metadata": {
        "id": "R3f_hyj6VACB"
      },
      "execution_count": null,
      "outputs": []
    },
    {
      "cell_type": "code",
      "source": [
        "for images, _ in trainLoader:\n",
        "    print('images.shape:', images.shape)\n",
        "    plt.figure(figsize=(16,8))\n",
        "    plt.axis('off')\n",
        "    plt.imshow(make_grid(images, nrow=16).permute((1, 2, 0)))\n",
        "    break"
      ],
      "metadata": {
        "colab": {
          "base_uri": "https://localhost:8080/",
          "height": 181
        },
        "id": "_z-IUnsqAlRF",
        "outputId": "a97c3b6d-c77b-407d-de6d-782ecba2ce8a"
      },
      "execution_count": null,
      "outputs": [
        {
          "output_type": "stream",
          "name": "stderr",
          "text": [
            "WARNING:matplotlib.image:Clipping input data to the valid range for imshow with RGB data ([0..1] for floats or [0..255] for integers).\n"
          ]
        },
        {
          "output_type": "stream",
          "name": "stdout",
          "text": [
            "images.shape: torch.Size([32, 3, 32, 32])\n"
          ]
        },
        {
          "output_type": "display_data",
          "data": {
            "text/plain": [
              "<Figure size 1152x576 with 1 Axes>"
            ],
            "image/png": "[encoded data removed]"
          },
          "metadata": {
            "needs_background": "light"
          }
        }
      ]
    },
    {
      "cell_type": "code",
      "source": [
        "for images, _ in valLoader:\n",
        "    print('images.shape:', images.shape)\n",
        "    plt.figure(figsize=(16,8))\n",
        "    plt.axis('off')\n",
        "    plt.imshow(make_grid(images, nrow=16).permute((1, 2, 0)))\n",
        "    break"
      ],
      "metadata": {
        "colab": {
          "base_uri": "https://localhost:8080/",
          "height": 181
        },
        "id": "cJLs0vMiBNNp",
        "outputId": "56979495-2c57-4871-a8ab-ad1a53994a36"
      },
      "execution_count": null,
      "outputs": [
        {
          "output_type": "stream",
          "name": "stderr",
          "text": [
            "WARNING:matplotlib.image:Clipping input data to the valid range for imshow with RGB data ([0..1] for floats or [0..255] for integers).\n"
          ]
        },
        {
          "output_type": "stream",
          "name": "stdout",
          "text": [
            "images.shape: torch.Size([32, 3, 32, 32])\n"
          ]
        },
        {
          "output_type": "display_data",
          "data": {
            "text/plain": [
              "<Figure size 1152x576 with 1 Axes>"
            ],
            "image/png": "[encoded data removed]"
          },
          "metadata": {
            "needs_background": "light"
          }
        }
      ]
    },
    {
      "cell_type": "markdown",
      "source": [
        "CNN architecture of 2 FCs used in L1 and L2 regularization\\"
      ],
      "metadata": {
        "id": "sF7ihX-Cf8-f"
      }
    },
    {
      "cell_type": "code",
      "source": [
        "class Net_reg(nn.Module):\n",
        "    def __init__(self):\n",
        "        super(Net_reg, self).__init__()\n",
        "        self.conv1 = nn.Conv2d(3, 32, kernel_size=3, stride=1, padding=1)\n",
        "        self.conv2 = nn.Conv2d(32, 64, kernel_size=3, stride=1, padding=1)\n",
        "        self.fc1 =nn.Linear(64 * 8 * 8, 256)\n",
        "        self.fc2 =nn.Linear(256, 10)\n",
        "    def forward(self, x):\n",
        "        x = nn.functional.relu(self.conv1(x))\n",
        "        x = nn.functional.max_pool2d(x, 2, 2)\n",
        "        x = nn.functional.relu(self.conv2(x))\n",
        "        x = nn.functional.max_pool2d(x, 2, 2)\n",
        "        x = x.view(-1, 64 * 8 * 8)\n",
        "        x = nn.functional.relu(self.fc1(x))\n",
        "        x = self.fc2(x)\n",
        "        return x"
      ],
      "metadata": {
        "id": "nO5pWFyGfEXy"
      },
      "execution_count": null,
      "outputs": []
    },
    {
      "cell_type": "markdown",
      "source": [
        "defining model"
      ],
      "metadata": {
        "id": "tF68Wn8ugHah"
      }
    },
    {
      "cell_type": "code",
      "source": [
        "criterion = nn.CrossEntropyLoss()\n",
        "net = Net_reg()\n",
        "optimizer = optim.SGD(net.parameters(), lr=0.001, momentum=0.9)"
      ],
      "metadata": {
        "id": "6UxA1n96fHoZ"
      },
      "execution_count": null,
      "outputs": []
    },
    {
      "cell_type": "markdown",
      "source": [
        "Training for L1"
      ],
      "metadata": {
        "id": "wfwFrNwCgJ5z"
      }
    },
    {
      "cell_type": "code",
      "source": [
        "for epoch in range(20):\n",
        "    running_loss = 0.0\n",
        "    for i, data in enumerate(trainLoader, 0):\n",
        "        inputs, labels = data\n",
        "        optimizer.zero_grad()\n",
        "        outputs = net(inputs)\n",
        "        # print('here')\n",
        "        loss = criterion(outputs, labels)\n",
        "        l1_regularization = 0   #L1\n",
        "        for param in  net.parameters():\n",
        "            l1_regularization += torch.sum(torch.abs(param))\n",
        "        loss += 0.01 * l1_regularization\n",
        "        loss.backward()\n",
        "        optimizer.step()"
      ],
      "metadata": {
        "id": "8xun1QVSCq80"
      },
      "execution_count": null,
      "outputs": []
    },
    {
      "cell_type": "markdown",
      "source": [
        "Testing for L1"
      ],
      "metadata": {
        "id": "h0qjmTYxgOUu"
      }
    },
    {
      "cell_type": "code",
      "source": [
        "def test(model, test_loader, criterion):\n",
        "    model.eval()\n",
        "    test_loss = 0\n",
        "    correct =0\n",
        "    with torch.no_grad():\n",
        "        for data, target in test_loader:\n",
        "            # data, target = data.to(device), target.to(device)\n",
        "            output = model(data)\n",
        "            test_loss += criterion(output, target).item()\n",
        "            pred = output.argmax(dim=1, keepdim=True)\n",
        "            correct += pred.eq(target.view_as(pred)).sum().item()\n",
        "\n",
        "    test_loss /= len(test_loader.dataset)\n",
        "    print('\\nTest set: Average loss: {:.4f}, Accuracy: {}/{} ({:.0f}%)\\n'.format(test_loss, correct, len(test_loader.dataset),100. * correct / len(test_loader.dataset)))\n",
        "test(net,valLoader,criterion)\n"
      ],
      "metadata": {
        "colab": {
          "base_uri": "https://localhost:8080/"
        },
        "id": "ZCgKwhqZH25-",
        "outputId": "ee661d11-7943-4f22-9b78-529a67f687e6"
      },
      "execution_count": null,
      "outputs": [
        {
          "output_type": "stream",
          "name": "stdout",
          "text": [
            "Test set: Average loss: 0.0083, Accuracy: 161/178 (91%)\n"
          ]
        }
      ]
    },
    {
      "cell_type": "markdown",
      "source": [
        "Training for L2"
      ],
      "metadata": {
        "id": "ftSj8kbVff-l"
      }
    },
    {
      "cell_type": "code",
      "source": [
        "for epoch in range(20):\n",
        "    running_loss = 0.0\n",
        "    for i, data in enumerate(trainLoader, 0):\n",
        "        inputs, labels = data\n",
        "        optimizer.zero_grad()\n",
        "        outputs =net(inputs)\n",
        "        loss = criterion(outputs, labels)\n",
        "        \n",
        "        l2_regularization = 0\n",
        "        for param in  net.parameters():\n",
        "            # print('here')\n",
        "            l2_regularization += torch.sum(param ** 2)\n",
        "        loss += 0.001 * l2_regularization\n",
        "        \n",
        "        loss.backward()\n",
        "        optimizer.step()\n"
      ],
      "metadata": {
        "id": "ciY115ubIgHT"
      },
      "execution_count": null,
      "outputs": []
    },
    {
      "cell_type": "markdown",
      "source": [
        "Testing for L2"
      ],
      "metadata": {
        "id": "NC4ZBz-ygQxw"
      }
    },
    {
      "cell_type": "code",
      "source": [
        "def test(model, test_loader, criterion):\n",
        "    model.eval()\n",
        "    test_loss = 0\n",
        "    correct = 0\n",
        "    with torch.no_grad():\n",
        "        for data, target in test_loader:\n",
        "            output = model(data)\n",
        "            test_loss += criterion(output, target).item()\n",
        "            # print('here')\n",
        "            pred = output.argmax(dim=1, keepdim=True)\n",
        "            correct += pred.eq(target.view_as(pred)).sum().item()\n",
        "    test_loss /= len(test_loader.dataset)\n",
        "    print('\\nTest set: Average loss: {:.4f}, Accuracy: {}/{} ({:.0f}%)\\n'.format(test_loss, correct, len(test_loader.dataset),100. * correct / len(test_loader.dataset)))\n",
        "test(net,valLoader,criterion)\n"
      ],
      "metadata": {
        "colab": {
          "base_uri": "https://localhost:8080/"
        },
        "id": "-q17T18FWd2c",
        "outputId": "6a1d2bd9-c5ee-451f-f3a6-a5590a2c0d24"
      },
      "execution_count": null,
      "outputs": [
        {
          "output_type": "stream",
          "name": "stdout",
          "text": [
            "Test set: Average loss: 0.0072, Accuracy: 167/178 (93%)\n"
          ]
        }
      ]
    },
    {
      "cell_type": "markdown",
      "source": [
        "Model for dropout architecture"
      ],
      "metadata": {
        "id": "gNpw0aoZfkKg"
      }
    },
    {
      "cell_type": "code",
      "source": [
        "class Net(nn.Module):\n",
        "    def __init__(self):\n",
        "        super(Net, self).__init__()\n",
        "        self.conv1 = nn.Conv2d(3, 32, kernel_size=3, stride=1, padding=1)\n",
        "        self.conv2 = nn.Conv2d(32, 64, kernel_size=3, stride=1, padding=1)\n",
        "        self.fc1 = nn.Linear(64 * 8 * 8, 256)\n",
        "        self.fc2 = nn.Linear(256, 10)\n",
        "        self.dropout = nn.Dropout(0.25)\n",
        "    def forward(self, x):\n",
        "        x = nn.functional.relu(self.conv1(x))\n",
        "        x =nn.functional.max_pool2d(x, 2, 2)\n",
        "        x =nn.functional.relu(self.conv2(x))\n",
        "        x = nn.functional.max_pool2d(x, 2, 2)\n",
        "        x =x.view(-1, 64 * 8 * 8)\n",
        "        x = nn.functional.relu(self.fc1(x))\n",
        "        x = self.dropout(x)\n",
        "        x = self.fc2(x)\n",
        "        return x"
      ],
      "metadata": {
        "id": "oUtoKCQJfl00"
      },
      "execution_count": null,
      "outputs": []
    },
    {
      "cell_type": "markdown",
      "source": [
        "Model Definition"
      ],
      "metadata": {
        "id": "KyRo_42hgUix"
      }
    },
    {
      "cell_type": "code",
      "source": [
        "criterion = nn.CrossEntropyLoss()\n",
        "net = Net()\n",
        "optimizer = optim.SGD(net.parameters(), lr=0.001, momentum=0.9)\n"
      ],
      "metadata": {
        "id": "Pso5CmUFfmAW"
      },
      "execution_count": null,
      "outputs": []
    },
    {
      "cell_type": "markdown",
      "source": [
        "Training the model"
      ],
      "metadata": {
        "id": "nJIyGFgpgXcM"
      }
    },
    {
      "cell_type": "code",
      "source": [
        "for epoch in range(20):\n",
        "    running_loss = 0.0\n",
        "    for i, data in enumerate(trainLoader, 0):\n",
        "        inputs, labels = data\n",
        "        optimizer.zero_grad()\n",
        "        outputs = net(inputs)\n",
        "        loss = criterion(outputs, labels)\n",
        "        # print('here')\n",
        "        # # Add L1 regularization term to the loss\n",
        "        # l1_regularization = 0\n",
        "        # for Parameters net.parameters():\n",
        "        #     l1_regularization += torch.sum(param ** 2)\n",
        "        # loss += 0.001 * l1_regularization\n",
        "        \n",
        "        loss.backward()\n",
        "        optimizer.step()\n"
      ],
      "metadata": {
        "id": "u9A1h2wYWfpT"
      },
      "execution_count": null,
      "outputs": []
    },
    {
      "cell_type": "markdown",
      "source": [
        "Testing"
      ],
      "metadata": {
        "id": "NKfI08zugZtB"
      }
    },
    {
      "cell_type": "code",
      "source": [
        "def test(model, test_loader, criterion):\n",
        "    model.eval()\n",
        "    test_loss = 0\n",
        "    correct = 0\n",
        "    with torch.no_grad():\n",
        "        for data, target in test_loader:\n",
        "            output = model(data)\n",
        "            # print('here')\n",
        "            test_loss += criterion(output, target).item()\n",
        "            pred = output.argmax(dim=1, keepdim=True)\n",
        "            correct += pred.eq(target.view_as(pred)).sum().item()\n",
        "    test_loss /= len(test_loader.dataset)\n",
        "    print('\\nTest set: Average loss: {:.4f}, Accuracy: {}/{} ({:.0f}%)\\n'.format(test_loss, correct, len(test_loader.dataset),100. * correct / len(test_loader.dataset)))\n",
        "test(net,valLoader,criterion)"
      ],
      "metadata": {
        "colab": {
          "base_uri": "https://localhost:8080/"
        },
        "id": "9YSJ7wAtaOrE",
        "outputId": "501762d7-88b3-4bcd-c37b-513ee20365fd"
      },
      "execution_count": null,
      "outputs": [
        {
          "output_type": "stream",
          "name": "stdout",
          "text": [
            "\n",
            "Test set: Average loss: 0.0046, Accuracy: 171/178 (96%)\n",
            "\n"
          ]
        }
      ]
    },
    {
      "cell_type": "code",
      "source": [
        "print(net)"
      ],
      "metadata": {
        "colab": {
          "base_uri": "https://localhost:8080/"
        },
        "id": "5s2eD_YMkGWf",
        "outputId": "a34ad30b-84a6-4db2-fd1c-81a1ce6d0558"
      },
      "execution_count": null,
      "outputs": [
        {
          "output_type": "stream",
          "name": "stdout",
          "text": [
            "Net(\n",
            "  (fc1): Linear(in_features=3072, out_features=512, bias=True)\n",
            "  (fc2): Linear(in_features=512, out_features=256, bias=True)\n",
            "  (fc3): Linear(in_features=256, out_features=10, bias=True)\n",
            ")\n"
          ]
        }
      ]
    },
    {
      "cell_type": "code",
      "source": [
        "import torch\n",
        "import numpy as np\n",
        "\n",
        "def compute_numerical_gradient(net, x, y, h=1e-5):\n",
        "    tensor = torch.empty_like(x)\n",
        "    tensor.requires_grad = True\n",
        "    criterion = torch.nn.CrossEntropyLoss()\n",
        "    loss = criterion(net(tensor), y)\n",
        "    loss.backward()\n",
        "    grad = tensor.grad.data.numpy().flatten()\n",
        "    numerical_grad = np.zeros_like(grad)\n",
        "    for i in range(len(grad)):\n",
        "        tensor.grad.zero_()\n",
        "        tensor[i] =x[i] + h\n",
        "        loss_plus = criterion(net(tensor), y)\n",
        "        tensor[i] =x[i] - h\n",
        "        loss_minus = criterion(net(tensor), y)\n",
        "        numerical_grad[i] = (loss_plus - loss_minus) / (2 * h)\n",
        "        tensor[i] = x[i]\n",
        "    return numerical_grad"
      ],
      "metadata": {
        "id": "gr4ZdVTdaIJP"
      },
      "execution_count": null,
      "outputs": []
    },
    {
      "cell_type": "code",
      "source": [
        "class Net(nn.Module):\n",
        "    def __init__(self):\n",
        "        super(Net, self).__init__()\n",
        "        self.fc1 = nn.Linear(32*32*3, 512)\n",
        "        self.fc2 = nn.Linear(512, 256)\n",
        "        self.fc3 = nn.Linear(256, 10)\n",
        "\n",
        "    def forward(self, x):\n",
        "        x = x.view(-1, 32*32*3)\n",
        "        x = F.relu(self.fc1(x))\n",
        "        x = F.relu(self.fc2(x))\n",
        "        x = self.fc3(x)\n",
        "        return x\n",
        "\n",
        "net = Net()\n",
        "criterion = nn.CrossEntropyLoss()\n"
      ],
      "metadata": {
        "id": "Ovlo7gqSmBYm"
      },
      "execution_count": null,
      "outputs": []
    },
    {
      "cell_type": "code",
      "source": [
        "def gradient_checking(net, x,y, epsilon=1e-6):\n",
        "\n",
        "    grads = compute_numerical_gradient(net, x, y)\n",
        "    for i, (param, grad) in enumerate(zip(net.parameters(), grads)):\n",
        "        param_data = param.data.numpy().reshape(-1)\n",
        "        grad_data = grad.data.numpy().reshape(-1)\n",
        "        for j in range(len(param_data)):\n",
        "            old_param = param_data[j]\n",
        "            param_data[j] = old_param + epsilon\n",
        "            loss_plus = criterion(net(x), y).data.numpy()\n",
        "            param_data[j] = old_param - epsilon\n",
        "            loss_minus = criterion(net(x), y).data.numpy()\n",
        "            param_data[j] = old_param\n",
        "            numerical_grad = (loss_plus - loss_minus) / (2 * epsilon)\n",
        "            backprop_grad = grad_data[j]\n",
        "            rel_error = abs(numerical_grad - backprop_grad) / (abs(numerical_grad) + abs(backprop_grad))\n",
        "            if rel_error > 1e-5:\n",
        "                print(\"Gradient checking failed for parameter \", i, \" with index \", j)\n",
        "                print(\"Numerical grad: \", numerical_grad)\n",
        "                print(\"Backprop grad: \", backprop_grad)\n",
        "                print(\"Relative error: \", rel_error)"
      ],
      "metadata": {
        "id": "jkKr401JmGng"
      },
      "execution_count": null,
      "outputs": []
    },
    {
      "cell_type": "code",
      "source": [
        "input_batch, label_batch = next(iter(trainLoader))"
      ],
      "metadata": {
        "id": "Dl1JgfFD0L4R"
      },
      "execution_count": null,
      "outputs": []
    },
    {
      "cell_type": "code",
      "source": [
        "gradient_checking(net,input_batch, label_batch)"
      ],
      "metadata": {
        "id": "OThKvdGtuYMq"
      },
      "execution_count": null,
      "outputs": []
    },
    {
      "cell_type": "code",
      "source": [
        "compare_gradients(net,input_batch)"
      ],
      "metadata": {
        "id": "gXp4qFtM0C8i"
      },
      "execution_count": null,
      "outputs": []
    }
  ]
}